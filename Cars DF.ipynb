{
 "cells": [
  {
   "cell_type": "code",
   "execution_count": null,
   "id": "bf3a706d",
   "metadata": {},
   "outputs": [],
   "source": [
    "# Dependencies\n",
    "import pandas as pd\n",
    "import numpy as np\n",
    "from pathlib import Path"
   ]
  },
  {
   "cell_type": "code",
   "execution_count": null,
   "id": "4bb8cf18",
   "metadata": {},
   "outputs": [],
   "source": [
    "# Reference the file where the CSV is located\n",
    "csv_path = Path(\"Car Sales.xlsx - car_data.csv\")\n",
    "\n",
    "# Import the data into a Pandas DataFrame\n",
    "df = pd.read_csv(csv_path, low_memory=False)\n",
    "\n",
    "df.head(50)"
   ]
  },
  {
   "cell_type": "code",
   "execution_count": null,
   "id": "00cb61f6",
   "metadata": {},
   "outputs": [],
   "source": [
    "df[[\"Unwanted_data\",\"Customer_ID\"]] = df[\"Car_id\"].str.split(pat=\"C_CND_0\", n = 0, expand = True)\n",
    "df"
   ]
  },
  {
   "cell_type": "code",
   "execution_count": null,
   "id": "526b8161",
   "metadata": {},
   "outputs": [],
   "source": [
    "df = df.rename(columns = {\"Unwanted_data\":\"Sales_ID\", \"Company\":\"Make\"})\n",
    "df"
   ]
  },
  {
   "cell_type": "code",
   "execution_count": null,
   "id": "c182290d",
   "metadata": {},
   "outputs": [],
   "source": [
    "df.columns"
   ]
  },
  {
   "cell_type": "code",
   "execution_count": null,
   "id": "da28cf6d",
   "metadata": {},
   "outputs": [],
   "source": [
    "df = df[['Customer_ID','Sales_ID','Date', 'Customer Name', 'Gender', 'Annual Income',\n",
    "       'Dealer_Name', 'Make', 'Model', 'Engine', 'Transmission', 'Color',\n",
    "       'Price ($)', 'Dealer_No ', 'Body Style', 'Phone', 'Dealer_Region']]\n",
    "\n",
    "df['Sales_ID'] = range(1, len(df) + 1)\n",
    "df[\"Customer_ID\"] = df[\"Customer_ID\"].str.lstrip('0')\n",
    "df"
   ]
  },
  {
   "cell_type": "code",
   "execution_count": null,
   "id": "b36e304f",
   "metadata": {},
   "outputs": [],
   "source": [
    "df['Car_ID'] = range(1, len(df) + 1)\n",
    "df"
   ]
  },
  {
   "cell_type": "code",
   "execution_count": null,
   "id": "6f4cf621",
   "metadata": {},
   "outputs": [],
   "source": [
    "df.columns"
   ]
  },
  {
   "cell_type": "code",
   "execution_count": null,
   "id": "efa81df9",
   "metadata": {
    "scrolled": true
   },
   "outputs": [],
   "source": [
    "df = df[['Customer_ID','Sales_ID', 'Car_ID','Date', 'Customer Name', 'Gender', 'Annual Income',\n",
    "       'Dealer_Name', 'Make', 'Model', 'Engine', 'Transmission', 'Color',\n",
    "       'Price ($)', 'Dealer_No ', 'Body Style', 'Phone', 'Dealer_Region']]\n",
    "\n",
    "df"
   ]
  },
  {
   "cell_type": "code",
   "execution_count": null,
   "id": "4589787a",
   "metadata": {
    "scrolled": true
   },
   "outputs": [],
   "source": [
    "df.dtypes"
   ]
  },
  {
   "cell_type": "code",
   "execution_count": null,
   "id": "51fdbc31",
   "metadata": {},
   "outputs": [],
   "source": [
    "df[\"Customer_ID\"] = df[\"Customer_ID\"].astype(int)\n",
    "df"
   ]
  },
  {
   "cell_type": "code",
   "execution_count": null,
   "id": "9e92aecc",
   "metadata": {
    "scrolled": true
   },
   "outputs": [],
   "source": [
    "df.dtypes"
   ]
  },
  {
   "cell_type": "code",
   "execution_count": null,
   "id": "e22c4dd5",
   "metadata": {},
   "outputs": [],
   "source": [
    "Car_df = df[['Car_ID', 'Date', 'Make', 'Model', 'Engine', 'Transmission', 'Body Style', 'Color', 'Price ($)']]\n",
    "\n",
    "Car_df.columns = ['Car ID', 'Date', 'Company', 'Model', 'Engine', 'Transmission', 'Body Style', 'Color', 'Price']\n",
    "\n",
    "Car_df.head()"
   ]
  },
  {
   "cell_type": "code",
   "execution_count": null,
   "id": "9f64e6de",
   "metadata": {},
   "outputs": [],
   "source": [
    "Customer_df = df[['Customer_ID', 'Customer Name', 'Gender', 'Annual Income', 'Phone']]\n",
    "\n",
    "Customer_df.columns = ['Customer ID', 'Customer Name', 'Gender', 'Annual Income', 'Phone Number']\n",
    "\n",
    "Customer_df.head()"
   ]
  },
  {
   "cell_type": "code",
   "execution_count": null,
   "id": "170cd30e",
   "metadata": {},
   "outputs": [],
   "source": [
    "Customer_df[]"
   ]
  },
  {
   "cell_type": "code",
   "execution_count": null,
   "id": "4c30ec96",
   "metadata": {
    "scrolled": true
   },
   "outputs": [],
   "source": [
    "Customer_df[\"Customer Name\"].replace('', \"No_Name\", inplace=True)"
   ]
  },
  {
   "cell_type": "code",
   "execution_count": null,
   "id": "2d856b7d",
   "metadata": {
    "scrolled": true
   },
   "outputs": [],
   "source": [
    "Dealer_df = df[['Sales_ID', 'Dealer_Name', 'Dealer_Region', 'Dealer_No ']]\n",
    "\n",
    "Dealer_df.columns = ['Sales ID', 'Dealer Name', 'Dealer Region', 'Dealer Number']\n",
    "\n",
    "Dealer_df.head()"
   ]
  },
  {
   "cell_type": "code",
   "execution_count": null,
   "id": "753aa5bf",
   "metadata": {},
   "outputs": [],
   "source": [
    "Car_df.to_csv('Car_Table.csv', index=False, encoding='utf-8')"
   ]
  },
  {
   "cell_type": "code",
   "execution_count": null,
   "id": "6bd02aff",
   "metadata": {},
   "outputs": [],
   "source": [
    "Customer_df.to_csv('Customer_Table.csv', index=False, encoding='utf-8')"
   ]
  },
  {
   "cell_type": "code",
   "execution_count": null,
   "id": "0aa85740",
   "metadata": {},
   "outputs": [],
   "source": [
    "Dealer_df.to_csv('Dealer_Table.csv', index=False, encoding='utf-8')"
   ]
  },
  {
   "cell_type": "code",
   "execution_count": null,
   "id": "240e642c",
   "metadata": {},
   "outputs": [],
   "source": [
    "Car_df[\"Price\"].min()"
   ]
  },
  {
   "cell_type": "code",
   "execution_count": null,
   "id": "a6387322",
   "metadata": {},
   "outputs": [],
   "source": []
  }
 ],
 "metadata": {
  "kernelspec": {
   "display_name": "Python 3 (ipykernel)",
   "language": "python",
   "name": "python3"
  },
  "language_info": {
   "codemirror_mode": {
    "name": "ipython",
    "version": 3
   },
   "file_extension": ".py",
   "mimetype": "text/x-python",
   "name": "python",
   "nbconvert_exporter": "python",
   "pygments_lexer": "ipython3",
   "version": "3.10.13"
  }
 },
 "nbformat": 4,
 "nbformat_minor": 5
}
